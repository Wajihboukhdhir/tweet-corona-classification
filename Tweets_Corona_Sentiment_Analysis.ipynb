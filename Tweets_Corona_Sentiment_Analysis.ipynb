{
  "metadata": {
    "kernelspec": {
      "language": "python",
      "display_name": "Python 3",
      "name": "python3"
    },
    "language_info": {
      "name": "python",
      "version": "3.10.12",
      "mimetype": "text/x-python",
      "codemirror_mode": {
        "name": "ipython",
        "version": 3
      },
      "pygments_lexer": "ipython3",
      "nbconvert_exporter": "python",
      "file_extension": ".py"
    },
    "kaggle": {
      "accelerator": "nvidiaTeslaT4",
      "dataSources": [
        {
          "sourceId": 10349100,
          "sourceType": "datasetVersion",
          "datasetId": 6408527
        }
      ],
      "dockerImageVersionId": 30823,
      "isInternetEnabled": true,
      "language": "python",
      "sourceType": "notebook",
      "isGpuEnabled": true
    },
    "colab": {
      "provenance": []
    }
  },
  "nbformat_minor": 0,
  "nbformat": 4,
  "cells": [
    {
      "cell_type": "code",
      "source": [
        "pip install transformers datasets\n"
      ],
      "metadata": {
        "trusted": true,
        "execution": {
          "iopub.status.busy": "2025-01-01T19:07:46.028567Z",
          "iopub.execute_input": "2025-01-01T19:07:46.028944Z",
          "iopub.status.idle": "2025-01-01T19:07:50.451062Z",
          "shell.execute_reply.started": "2025-01-01T19:07:46.028879Z",
          "shell.execute_reply": "2025-01-01T19:07:50.450175Z"
        },
        "id": "_hhrUy7BnmPJ",
        "outputId": "38564114-8570-4e78-f969-a889f1be2fe5"
      },
      "outputs": [
        {
          "name": "stdout",
          "text": "Requirement already satisfied: transformers in /usr/local/lib/python3.10/dist-packages (4.44.2)\nRequirement already satisfied: datasets in /usr/local/lib/python3.10/dist-packages (3.2.0)\nRequirement already satisfied: filelock in /usr/local/lib/python3.10/dist-packages (from transformers) (3.16.1)\nRequirement already satisfied: huggingface-hub<1.0,>=0.23.2 in /usr/local/lib/python3.10/dist-packages (from transformers) (0.24.7)\nRequirement already satisfied: numpy>=1.17 in /usr/local/lib/python3.10/dist-packages (from transformers) (1.26.4)\nRequirement already satisfied: packaging>=20.0 in /usr/local/lib/python3.10/dist-packages (from transformers) (24.1)\nRequirement already satisfied: pyyaml>=5.1 in /usr/local/lib/python3.10/dist-packages (from transformers) (6.0.2)\nRequirement already satisfied: regex!=2019.12.17 in /usr/local/lib/python3.10/dist-packages (from transformers) (2024.9.11)\nRequirement already satisfied: requests in /usr/local/lib/python3.10/dist-packages (from transformers) (2.32.3)\nRequirement already satisfied: safetensors>=0.4.1 in /usr/local/lib/python3.10/dist-packages (from transformers) (0.4.5)\nRequirement already satisfied: tokenizers<0.20,>=0.19 in /usr/local/lib/python3.10/dist-packages (from transformers) (0.19.1)\nRequirement already satisfied: tqdm>=4.27 in /usr/local/lib/python3.10/dist-packages (from transformers) (4.66.5)\nRequirement already satisfied: pyarrow>=15.0.0 in /usr/local/lib/python3.10/dist-packages (from datasets) (18.1.0)\nRequirement already satisfied: dill<0.3.9,>=0.3.0 in /usr/local/lib/python3.10/dist-packages (from datasets) (0.3.8)\nRequirement already satisfied: pandas in /usr/local/lib/python3.10/dist-packages (from datasets) (2.1.4)\nRequirement already satisfied: xxhash in /usr/local/lib/python3.10/dist-packages (from datasets) (3.5.0)\nRequirement already satisfied: multiprocess<0.70.17 in /usr/local/lib/python3.10/dist-packages (from datasets) (0.70.16)\nRequirement already satisfied: fsspec<=2024.9.0,>=2023.1.0 in /usr/local/lib/python3.10/dist-packages (from fsspec[http]<=2024.9.0,>=2023.1.0->datasets) (2024.6.1)\nRequirement already satisfied: aiohttp in /usr/local/lib/python3.10/dist-packages (from datasets) (3.10.5)\nRequirement already satisfied: aiohappyeyeballs>=2.3.0 in /usr/local/lib/python3.10/dist-packages (from aiohttp->datasets) (2.4.0)\nRequirement already satisfied: aiosignal>=1.1.2 in /usr/local/lib/python3.10/dist-packages (from aiohttp->datasets) (1.3.1)\nRequirement already satisfied: attrs>=17.3.0 in /usr/local/lib/python3.10/dist-packages (from aiohttp->datasets) (24.2.0)\nRequirement already satisfied: frozenlist>=1.1.1 in /usr/local/lib/python3.10/dist-packages (from aiohttp->datasets) (1.4.1)\nRequirement already satisfied: multidict<7.0,>=4.5 in /usr/local/lib/python3.10/dist-packages (from aiohttp->datasets) (6.1.0)\nRequirement already satisfied: yarl<2.0,>=1.0 in /usr/local/lib/python3.10/dist-packages (from aiohttp->datasets) (1.11.1)\nRequirement already satisfied: async-timeout<5.0,>=4.0 in /usr/local/lib/python3.10/dist-packages (from aiohttp->datasets) (4.0.3)\nRequirement already satisfied: typing-extensions>=3.7.4.3 in /usr/local/lib/python3.10/dist-packages (from huggingface-hub<1.0,>=0.23.2->transformers) (4.12.2)\nRequirement already satisfied: charset-normalizer<4,>=2 in /usr/local/lib/python3.10/dist-packages (from requests->transformers) (3.3.2)\nRequirement already satisfied: idna<4,>=2.5 in /usr/local/lib/python3.10/dist-packages (from requests->transformers) (3.10)\nRequirement already satisfied: urllib3<3,>=1.21.1 in /usr/local/lib/python3.10/dist-packages (from requests->transformers) (2.2.3)\nRequirement already satisfied: certifi>=2017.4.17 in /usr/local/lib/python3.10/dist-packages (from requests->transformers) (2024.8.30)\nRequirement already satisfied: python-dateutil>=2.8.2 in /usr/local/lib/python3.10/dist-packages (from pandas->datasets) (2.8.2)\nRequirement already satisfied: pytz>=2020.1 in /usr/local/lib/python3.10/dist-packages (from pandas->datasets) (2024.2)\nRequirement already satisfied: tzdata>=2022.1 in /usr/local/lib/python3.10/dist-packages (from pandas->datasets) (2024.1)\nRequirement already satisfied: six>=1.5 in /usr/local/lib/python3.10/dist-packages (from python-dateutil>=2.8.2->pandas->datasets) (1.16.0)\nNote: you may need to restart the kernel to use updated packages.\n",
          "output_type": "stream"
        }
      ],
      "execution_count": null
    },
    {
      "cell_type": "code",
      "source": [
        "import pandas as pd\n",
        "\n",
        "df_test= pd.read_csv(\"https://raw.githubusercontent.com/Wajihboukhdhir/tweet-corona-classification/refs/heads/main/Corona_NLP_test.csv\",encoding=\"ISO-8859-1\")\n",
        "print(df_test.head())\n",
        "\n",
        "df_train= pd.read_csv(\"https://raw.githubusercontent.com/Wajihboukhdhir/tweet-corona-classification/refs/heads/main/Corona_NLP_train.csv\",encoding=\"ISO-8859-1\")\n",
        "print(df_train.head())"
      ],
      "metadata": {
        "_uuid": "8f2839f25d086af736a60e9eeb907d3b93b6e0e5",
        "_cell_guid": "b1076dfc-b9ad-4769-8c92-a6c4dae69d19",
        "trusted": true,
        "execution": {
          "iopub.status.busy": "2025-01-01T19:07:50.452063Z",
          "iopub.execute_input": "2025-01-01T19:07:50.452326Z",
          "iopub.status.idle": "2025-01-01T19:07:51.023200Z",
          "shell.execute_reply.started": "2025-01-01T19:07:50.452306Z",
          "shell.execute_reply": "2025-01-01T19:07:51.022171Z"
        },
        "id": "xdsGR2-CnmPM",
        "outputId": "9e2ecb2a-142d-467b-87bf-419fbb9c4537"
      },
      "outputs": [
        {
          "name": "stdout",
          "text": "/kaggle/input/corona-nlp/Corona_NLP_test.csv\n/kaggle/input/corona-nlp/Corona_NLP_train.csv\n   UserName  ScreenName   Location     TweetAt  \\\n0      3799       48751     London  16-03-2020   \n1      3800       48752         UK  16-03-2020   \n2      3801       48753  Vagabonds  16-03-2020   \n3      3802       48754        NaN  16-03-2020   \n4      3803       48755        NaN  16-03-2020   \n\n                                       OriginalTweet           Sentiment  \n0  @MeNyrbie @Phil_Gahan @Chrisitv https://t.co/i...             Neutral  \n1  advice Talk to your neighbours family to excha...            Positive  \n2  Coronavirus Australia: Woolworths to give elde...            Positive  \n3  My food stock is not the only one which is emp...            Positive  \n4  Me, ready to go at supermarket during the #COV...  Extremely Negative  \n",
          "output_type": "stream"
        }
      ],
      "execution_count": null
    },
    {
      "cell_type": "code",
      "source": [
        "columns_to_remove = ['UserName', 'ScreenName',\"TweetAt\",\"Location\"]\n",
        "df_train = df_train.drop(columns=columns_to_remove)\n",
        "df_test = df_test.drop(columns=columns_to_remove)"
      ],
      "metadata": {
        "trusted": true,
        "execution": {
          "iopub.status.busy": "2025-01-01T19:07:51.023954Z",
          "iopub.execute_input": "2025-01-01T19:07:51.024183Z",
          "iopub.status.idle": "2025-01-01T19:07:51.034956Z",
          "shell.execute_reply.started": "2025-01-01T19:07:51.024162Z",
          "shell.execute_reply": "2025-01-01T19:07:51.034266Z"
        },
        "id": "9Lin7idunmPM"
      },
      "outputs": [],
      "execution_count": null
    },
    {
      "cell_type": "code",
      "source": [
        "df_train[\"Rating\"] = df_train.Sentiment.map({\n",
        "    \"Extremely Positive\" : 2,\n",
        "    \"Positive\" : 2,\n",
        "    \"Neutral\" : 1,\n",
        "    \"Negative\":0,\n",
        "    \"Extremely Negative\":0\n",
        "})\n",
        "df_test[\"Rating\"] = df_test.Sentiment.map({\n",
        "    \"Extremely Positive\" : 2,\n",
        "    \"Positive\" : 2,\n",
        "    \"Neutral\" : 1,\n",
        "    \"Negative\":0,\n",
        "    \"Extremely Negative\":0\n",
        "})\n",
        "print(df_train.head())"
      ],
      "metadata": {
        "trusted": true,
        "execution": {
          "iopub.status.busy": "2025-01-01T19:07:51.036552Z",
          "iopub.execute_input": "2025-01-01T19:07:51.036799Z",
          "iopub.status.idle": "2025-01-01T19:07:51.052892Z",
          "shell.execute_reply.started": "2025-01-01T19:07:51.036770Z",
          "shell.execute_reply": "2025-01-01T19:07:51.051942Z"
        },
        "id": "R783DysanmPN",
        "outputId": "03e9c693-1bf3-42a2-c924-9b5a1ae51960"
      },
      "outputs": [
        {
          "name": "stdout",
          "text": "                                       OriginalTweet           Sentiment  \\\n0  @MeNyrbie @Phil_Gahan @Chrisitv https://t.co/i...             Neutral   \n1  advice Talk to your neighbours family to excha...            Positive   \n2  Coronavirus Australia: Woolworths to give elde...            Positive   \n3  My food stock is not the only one which is emp...            Positive   \n4  Me, ready to go at supermarket during the #COV...  Extremely Negative   \n\n   Rating  \n0       1  \n1       2  \n2       2  \n3       2  \n4       0  \n",
          "output_type": "stream"
        }
      ],
      "execution_count": null
    },
    {
      "cell_type": "code",
      "source": [
        "import re\n",
        "import html\n",
        "import emoji\n",
        "\n",
        "# Function to remove emojis\n",
        "def strip_emoji(text):\n",
        "    return emoji.replace_emoji(text, \"\") if hasattr(emoji, 'replace_emoji') else text\n",
        "\n",
        "# Function to filter out words with special characters like '$' and '&'\n",
        "def filter_chars(text):\n",
        "    sent = []\n",
        "    for word in text.split(' '):\n",
        "        if ('$' in word) or ('&' in word):\n",
        "            sent.append('')  # Remove words containing '$' or '&'\n",
        "        else:\n",
        "            sent.append(word)\n",
        "    return ' '.join(sent)\n",
        "\n",
        "# Function to remove multiple spaces\n",
        "def remove_mult_spaces(text):\n",
        "    return re.sub(\"\\s\\s+\", \" \", text)\n",
        "\n",
        "# Main data cleaner function\n",
        "def data_cleaner(tweet):\n",
        "    # Remove URLs\n",
        "    tweet = re.sub(r'http\\S+', ' ', tweet)\n",
        "\n",
        "    # Remove HTML tags\n",
        "    tweet = re.sub(r'<.*?>', ' ', tweet)\n",
        "\n",
        "    # Remove digits\n",
        "    tweet = re.sub(r'\\d+', ' ', tweet)\n",
        "\n",
        "    # Remove hashtags\n",
        "    tweet = re.sub(r'#\\w+', ' ', tweet)\n",
        "\n",
        "    # Remove mentions\n",
        "    tweet = re.sub(r'@\\w+', ' ', tweet)\n",
        "\n",
        "    # Remove HTML entities (like &gt;, &lt;, etc.)\n",
        "    tweet = html.unescape(tweet)\n",
        "\n",
        "    # Remove emojis\n",
        "    tweet = strip_emoji(tweet)\n",
        "\n",
        "    # Filter out words with special characters like '$' and '&'\n",
        "    tweet = filter_chars(tweet)\n",
        "\n",
        "    # Remove multiple spaces\n",
        "    tweet = remove_mult_spaces(tweet)\n",
        "\n",
        "    # Clean up extra spaces\n",
        "    tweet = tweet.strip()\n",
        "\n",
        "    return tweet\n",
        "\n",
        "\n",
        "# Apply the function to the data\n",
        "df_train[\"OriginalTweet\"] = df_train[\"OriginalTweet\"].apply(data_cleaner)\n",
        "df_test[\"OriginalTweet\"] = df_test[\"OriginalTweet\"].apply(data_cleaner)\n"
      ],
      "metadata": {
        "trusted": true,
        "execution": {
          "iopub.status.busy": "2025-01-01T19:07:51.054142Z",
          "iopub.execute_input": "2025-01-01T19:07:51.054381Z",
          "iopub.status.idle": "2025-01-01T19:07:58.147885Z",
          "shell.execute_reply.started": "2025-01-01T19:07:51.054343Z",
          "shell.execute_reply": "2025-01-01T19:07:58.147244Z"
        },
        "id": "E26Ip0xhnmPN"
      },
      "outputs": [],
      "execution_count": null
    },
    {
      "cell_type": "code",
      "source": [
        "# Remove rows where the length of \"OriginalTweet\" is zero in df_train and df_test\n",
        "df_train = df_train[df_train[\"OriginalTweet\"].str.len() > 0]\n",
        "df_test = df_test[df_test[\"OriginalTweet\"].str.len() > 0]"
      ],
      "metadata": {
        "trusted": true,
        "execution": {
          "iopub.status.busy": "2025-01-01T19:07:58.148692Z",
          "iopub.execute_input": "2025-01-01T19:07:58.148984Z",
          "iopub.status.idle": "2025-01-01T19:07:58.178191Z",
          "shell.execute_reply.started": "2025-01-01T19:07:58.148961Z",
          "shell.execute_reply": "2025-01-01T19:07:58.177425Z"
        },
        "id": "4NZMi1_znmPO"
      },
      "outputs": [],
      "execution_count": null
    },
    {
      "cell_type": "code",
      "source": [
        "X_train = df_train[\"OriginalTweet\"]\n",
        "y_train = df_train[\"Rating\"]\n",
        "X_test = df_test[\"OriginalTweet\"]\n",
        "y_test = df_test[\"Rating\"]"
      ],
      "metadata": {
        "trusted": true,
        "execution": {
          "iopub.status.busy": "2025-01-01T19:07:58.179132Z",
          "iopub.execute_input": "2025-01-01T19:07:58.179462Z",
          "iopub.status.idle": "2025-01-01T19:07:58.183503Z",
          "shell.execute_reply.started": "2025-01-01T19:07:58.179427Z",
          "shell.execute_reply": "2025-01-01T19:07:58.182683Z"
        },
        "id": "IZSBEn-anmPO"
      },
      "outputs": [],
      "execution_count": null
    },
    {
      "cell_type": "code",
      "source": [
        "longest_tweet_index = X_train.apply(len).idxmax()\n",
        "\n",
        "# Retrieve the longest tweet\n",
        "longest_tweet = X_train.loc[longest_tweet_index]\n",
        "\n",
        "# Print the longest tweet\n",
        "print(f\"The longest tweet is: {longest_tweet}\")\n",
        "print(f\"Length of the longest tweet: {len(longest_tweet)} characters\")\n",
        "print(longest_tweet_index)"
      ],
      "metadata": {
        "trusted": true,
        "execution": {
          "iopub.status.busy": "2025-01-01T19:07:58.184321Z",
          "iopub.execute_input": "2025-01-01T19:07:58.184619Z",
          "iopub.status.idle": "2025-01-01T19:07:58.207262Z",
          "shell.execute_reply.started": "2025-01-01T19:07:58.184588Z",
          "shell.execute_reply": "2025-01-01T19:07:58.206435Z"
        },
        "id": "BOcJysDJnmPO",
        "outputId": "cea00444-7729-4cd7-c222-a7ad4c29234b"
      },
      "outputs": [
        {
          "name": "stdout",
          "text": "The longest tweet is: MDOC Horhn MS MS brown MISSISSIPPI PRISONERS ARE GOING ON OFFICIAL FOOD amp WATER STRIKE APRIL TO PROTEST THE COVID PANDEMIC amp LACK OF PREVENTENTIVE MEASURES TAKEN BY MDOC STAFF SHORTAGE INHUMANE LIVING CONDITIONS POOR FOOD QUALITY QUALITY ABUSE amp DEMAND MSLEG FINALIZE amp ENACT SB\nLength of the longest tweet: 286 characters\n35866\n",
          "output_type": "stream"
        }
      ],
      "execution_count": null
    },
    {
      "cell_type": "code",
      "source": [
        "from imblearn.over_sampling import RandomOverSampler\n",
        "import numpy as np\n",
        "\n",
        "ros = RandomOverSampler()\n",
        "X_train, y_train = ros.fit_resample(np.array(df_train[\"OriginalTweet\"]).reshape(-1, 1), np.array(df_train[\"Rating\"]).reshape(-1, 1));\n",
        "train_os = pd.DataFrame(list(zip([x[0] for x in X_train],  y_train)), columns = ['OriginalTweet', 'Rating']);"
      ],
      "metadata": {
        "trusted": true,
        "execution": {
          "iopub.status.busy": "2025-01-01T19:07:58.208046Z",
          "iopub.execute_input": "2025-01-01T19:07:58.208257Z",
          "iopub.status.idle": "2025-01-01T19:07:59.250228Z",
          "shell.execute_reply.started": "2025-01-01T19:07:58.208238Z",
          "shell.execute_reply": "2025-01-01T19:07:59.249166Z"
        },
        "id": "BY-2-rCznmPP"
      },
      "outputs": [],
      "execution_count": null
    },
    {
      "cell_type": "code",
      "source": [
        "train_os['Rating'].value_counts()\n"
      ],
      "metadata": {
        "trusted": true,
        "execution": {
          "iopub.status.busy": "2025-01-01T19:07:59.251242Z",
          "iopub.execute_input": "2025-01-01T19:07:59.251638Z",
          "iopub.status.idle": "2025-01-01T19:07:59.261208Z",
          "shell.execute_reply.started": "2025-01-01T19:07:59.251614Z",
          "shell.execute_reply": "2025-01-01T19:07:59.260394Z"
        },
        "id": "jkuuy0REnmPP",
        "outputId": "e147270a-15ca-49a3-cd0d-8b42ac09763c"
      },
      "outputs": [
        {
          "execution_count": 10,
          "output_type": "execute_result",
          "data": {
            "text/plain": "Rating\n1    18046\n2    18046\n0    18046\nName: count, dtype: int64"
          },
          "metadata": {}
        }
      ],
      "execution_count": null
    },
    {
      "cell_type": "code",
      "source": [
        "X_train = train_os[\"OriginalTweet\"]\n",
        "y_train = train_os[\"Rating\"]"
      ],
      "metadata": {
        "trusted": true,
        "execution": {
          "iopub.status.busy": "2025-01-01T19:07:59.261998Z",
          "iopub.execute_input": "2025-01-01T19:07:59.262209Z",
          "iopub.status.idle": "2025-01-01T19:07:59.273302Z",
          "shell.execute_reply.started": "2025-01-01T19:07:59.262190Z",
          "shell.execute_reply": "2025-01-01T19:07:59.272539Z"
        },
        "id": "JdU3HHaGnmPQ"
      },
      "outputs": [],
      "execution_count": null
    },
    {
      "cell_type": "code",
      "source": [
        "# Step 1: Import necessary libraries\n",
        "from sklearn.feature_extraction.text import TfidfVectorizer\n",
        "from sklearn.naive_bayes import MultinomialNB\n",
        "from sklearn.model_selection import train_test_split\n",
        "from sklearn.metrics import classification_report, accuracy_score\n",
        "\n",
        "# Step 2: Vectorize the Text Data using TfidfVectorizer\n",
        "tfidf_vectorizer = TfidfVectorizer(stop_words='english', max_features=5000)\n",
        "X_train_tfidf = tfidf_vectorizer.fit_transform(X_train)  # Fit and transform the training data\n",
        "X_test_tfidf = tfidf_vectorizer.transform(X_test)  # Transform the test data\n",
        "\n",
        "# Step 3: Train a Naive Bayes Model\n",
        "naive_bayes = MultinomialNB()\n",
        "naive_bayes.fit(X_train_tfidf, y_train)  # Fit the model on the training data\n",
        "\n",
        "# Step 4: Make Predictions on the Test Set\n",
        "y_pred = naive_bayes.predict(X_test_tfidf)\n",
        "\n",
        "# Step 5: Evaluate the Model\n",
        "print(\"Accuracy:\", accuracy_score(y_test, y_pred))\n",
        "print(\"Classification Report:\\n\", classification_report(y_test, y_pred, target_names=['0', '1', '2']))\n"
      ],
      "metadata": {
        "trusted": true,
        "execution": {
          "iopub.status.busy": "2025-01-01T19:07:59.274118Z",
          "iopub.execute_input": "2025-01-01T19:07:59.274356Z",
          "iopub.status.idle": "2025-01-01T19:08:00.383941Z",
          "shell.execute_reply.started": "2025-01-01T19:07:59.274333Z",
          "shell.execute_reply": "2025-01-01T19:08:00.383215Z"
        },
        "id": "eWDfQLconmPQ",
        "outputId": "e2de7c2e-60bf-414d-a42c-c66d877e2867"
      },
      "outputs": [
        {
          "name": "stdout",
          "text": "Accuracy: 0.6979989468141127\nClassification Report:\n               precision    recall  f1-score   support\n\n           0       0.73      0.72      0.73      1633\n           1       0.51      0.64      0.57       619\n           2       0.76      0.70      0.73      1546\n\n    accuracy                           0.70      3798\n   macro avg       0.67      0.69      0.67      3798\nweighted avg       0.71      0.70      0.70      3798\n\n",
          "output_type": "stream"
        }
      ],
      "execution_count": null
    },
    {
      "cell_type": "code",
      "source": [
        "#pip install transformers tensorflow\n"
      ],
      "metadata": {
        "trusted": true,
        "execution": {
          "iopub.status.busy": "2025-01-01T19:08:00.386014Z",
          "iopub.execute_input": "2025-01-01T19:08:00.386220Z",
          "iopub.status.idle": "2025-01-01T19:08:00.389505Z",
          "shell.execute_reply.started": "2025-01-01T19:08:00.386203Z",
          "shell.execute_reply": "2025-01-01T19:08:00.388756Z"
        },
        "id": "H5Z4H_2OnmPQ"
      },
      "outputs": [],
      "execution_count": null
    },
    {
      "cell_type": "code",
      "source": [
        "import numpy as np\n",
        "import tensorflow as tf\n",
        "from transformers import TFBertModel, BertTokenizer\n"
      ],
      "metadata": {
        "trusted": true,
        "execution": {
          "iopub.status.busy": "2025-01-01T19:09:36.628429Z",
          "iopub.execute_input": "2025-01-01T19:09:36.628721Z",
          "iopub.status.idle": "2025-01-01T19:09:36.632297Z",
          "shell.execute_reply.started": "2025-01-01T19:09:36.628701Z",
          "shell.execute_reply": "2025-01-01T19:09:36.631569Z"
        },
        "id": "qxF1cGNunmPQ"
      },
      "outputs": [],
      "execution_count": null
    },
    {
      "cell_type": "code",
      "source": [
        "from transformers import AutoTokenizer  # Importing AutoTokenizer from Hugging Face's transformers library\n",
        "\n",
        "# Initialize the tokenizer (replace 'bert-base-uncased' with your model of choice)\n",
        "tokenizer = AutoTokenizer.from_pretrained('bert-base-uncased')\n",
        "# This initializes the tokenizer for the BERT model 'bert-base-uncased'. This tokenizer will convert text into input IDs and attention masks that are required for BERT.\n",
        "\n",
        "def tokenize(data):  # Define a function 'tokenize' that takes in the 'data' (a list of text strings)\n",
        "    input_ids = []  # Initialize an empty list to store the input IDs for each text\n",
        "    attention_masks = []  # Initialize an empty list to store the attention masks for each text\n",
        "\n",
        "    for i in range(len(data)):  # Loop through the 'data' (list of text strings)\n",
        "        # Use the tokenizer to encode each text\n",
        "        encoded = tokenizer.encode_plus(\n",
        "            data[i],  # The input text string to be tokenized (data[i] is the i-th string from the data)\n",
        "            add_special_tokens=True,  # Add special tokens like [CLS] and [SEP] as required by BERT\n",
        "            max_length=128,  # Set the maximum length of the input sequences to 128 tokens\n",
        "            padding='max_length',  # Pad the sequences to the max_length (128 in this case)\n",
        "            return_attention_mask=True,  # Also return an attention mask (which helps the model ignore padded tokens)\n",
        "            truncation=True  # Truncate the sequences if they are longer than 128 tokens\n",
        "        )\n",
        "\n",
        "        # Append the encoded input IDs and attention masks to their respective lists\n",
        "        input_ids.append(encoded['input_ids'])  # 'encoded' is a dictionary, and 'input_ids' is the tokenized representation of the text\n",
        "        attention_masks.append(encoded['attention_mask'])  # The attention mask indicates which tokens should be attended to (1 for real tokens, 0 for padding)\n",
        "\n",
        "    return np.array(input_ids), np.array(attention_masks)  # Convert the lists of input IDs and attention masks to numpy arrays and return them\n"
      ],
      "metadata": {
        "trusted": true,
        "execution": {
          "iopub.status.busy": "2025-01-01T19:18:34.697670Z",
          "iopub.execute_input": "2025-01-01T19:18:34.698103Z",
          "iopub.status.idle": "2025-01-01T19:18:34.825320Z",
          "shell.execute_reply.started": "2025-01-01T19:18:34.698070Z",
          "shell.execute_reply": "2025-01-01T19:18:34.824299Z"
        },
        "id": "v0ykInPrnmPQ",
        "outputId": "1a940a2f-1e64-4bb7-bae4-3590cc24ea65"
      },
      "outputs": [
        {
          "name": "stderr",
          "text": "/usr/local/lib/python3.10/dist-packages/transformers/tokenization_utils_base.py:1601: FutureWarning: `clean_up_tokenization_spaces` was not set. It will be set to `True` by default. This behavior will be depracted in transformers v4.45, and will be then set to `False` by default. For more details check this issue: https://github.com/huggingface/transformers/issues/31884\n  warnings.warn(\n",
          "output_type": "stream"
        }
      ],
      "execution_count": null
    },
    {
      "cell_type": "code",
      "source": [
        "# Ensure the data is in string format\n",
        "X_train = X_train.astype(str)\n",
        "X_test = X_test.astype(str)\n",
        "\n",
        "# Tokenizing the data\n",
        "train_input_ids, train_attention_masks = tokenize(X_train.tolist())\n",
        "val_input_ids, val_attention_masks = tokenize(X_test.tolist())\n",
        "\n",
        "# Check shapes\n",
        "print(f\"Train input IDs shape: {train_input_ids.shape}\")\n",
        "print(f\"Train attention masks shape: {train_attention_masks.shape}\")\n",
        "print(f\"Validation input IDs shape: {val_input_ids.shape}\")\n",
        "print(f\"Validation attention masks shape: {val_attention_masks.shape}\")\n"
      ],
      "metadata": {
        "trusted": true,
        "execution": {
          "iopub.status.busy": "2025-01-01T19:18:38.024069Z",
          "iopub.execute_input": "2025-01-01T19:18:38.024356Z",
          "iopub.status.idle": "2025-01-01T19:18:49.538855Z",
          "shell.execute_reply.started": "2025-01-01T19:18:38.024335Z",
          "shell.execute_reply": "2025-01-01T19:18:49.537930Z"
        },
        "id": "E1Nl2arxnmPR",
        "outputId": "ccc89867-00e7-463c-c60c-8c540ccf1a71"
      },
      "outputs": [
        {
          "name": "stdout",
          "text": "Train input IDs shape: (54138, 128)\nTrain attention masks shape: (54138, 128)\nValidation input IDs shape: (3798, 128)\nValidation attention masks shape: (3798, 128)\n",
          "output_type": "stream"
        }
      ],
      "execution_count": null
    },
    {
      "cell_type": "code",
      "source": [
        "def create_model(bert_model, max_len):\n",
        "    ## Parameters ###\n",
        "    # Define the optimizer. Here, Adam optimizer is used with a very small learning rate and decay (regularization)\n",
        "    opt = tf.keras.optimizers.legacy.Adam(learning_rate=1e-5, decay=1e-7)\n",
        "    # Define the loss function. SparseCategoricalCrossentropy is used for classification problems with integer labels.\n",
        "    loss = tf.keras.losses.SparseCategoricalCrossentropy()\n",
        "    # Define the metric to be used during evaluation. SparseCategoricalAccuracy is appropriate for classification tasks with integer labels.\n",
        "    accuracy = tf.keras.metrics.SparseCategoricalAccuracy()\n",
        "\n",
        "    # Input layers:\n",
        "    # Define the input layer for input_ids. It accepts an input of shape (max_len,), where max_len is the maximum length of tokenized text.\n",
        "    input_ids = tf.keras.Input(shape=(max_len,), dtype='int32')\n",
        "    # Define the input layer for attention_masks. It also accepts an input of shape (max_len,) for the attention mask.\n",
        "    attention_masks = tf.keras.Input(shape=(max_len,), dtype='int32')\n",
        "\n",
        "    # BERT embeddings:\n",
        "    # Use the BERT model to get the embeddings. The model expects both input_ids and attention_masks.\n",
        "    # The [1] at the end is used to extract the second output from the BERT model, which is typically the embeddings.\n",
        "    embeddings = bert_model([input_ids, attention_masks])[1]\n",
        "\n",
        "    # Output layer:\n",
        "    # After obtaining the embeddings from BERT, pass them through a dense layer.\n",
        "    # The dense layer has 3 units and uses a softmax activation to output probabilities for 3 classes.\n",
        "    output = tf.keras.layers.Dense(3, activation=\"softmax\")(embeddings)\n",
        "\n",
        "    # Define model:\n",
        "    # Use the functional API to define the model, specifying both input layers and the output layer.\n",
        "    # The model takes input_ids and attention_masks as inputs, and outputs the class probabilities from the output layer.\n",
        "    model = tf.keras.models.Model(inputs=[input_ids, attention_masks], outputs=output)\n",
        "\n",
        "    # Compile the model:\n",
        "    # Compile the model with the Adam optimizer, SparseCategoricalCrossentropy loss function, and SparseCategoricalAccuracy metric.\n",
        "    model.compile(optimizer=opt, loss=loss, metrics=[accuracy])\n",
        "\n",
        "    return model\n"
      ],
      "metadata": {
        "trusted": true,
        "execution": {
          "iopub.status.busy": "2025-01-01T19:18:57.189355Z",
          "iopub.execute_input": "2025-01-01T19:18:57.189747Z",
          "iopub.status.idle": "2025-01-01T19:18:57.195471Z",
          "shell.execute_reply.started": "2025-01-01T19:18:57.189718Z",
          "shell.execute_reply": "2025-01-01T19:18:57.194443Z"
        },
        "id": "JFX2YmcZnmPR"
      },
      "outputs": [],
      "execution_count": null
    },
    {
      "cell_type": "code",
      "source": [
        "# Load the pre-trained BERT model\n",
        "bert_model = TFBertModel.from_pretrained('bert-base-uncased')\n",
        "\n",
        "# Create and summarize the model\n",
        "model = create_model(bert_model, 128)\n",
        "model.summary()"
      ],
      "metadata": {
        "trusted": true,
        "execution": {
          "iopub.status.busy": "2025-01-01T19:19:00.219720Z",
          "iopub.execute_input": "2025-01-01T19:19:00.220005Z",
          "iopub.status.idle": "2025-01-01T19:19:03.106601Z",
          "shell.execute_reply.started": "2025-01-01T19:19:00.219984Z",
          "shell.execute_reply": "2025-01-01T19:19:03.105957Z"
        },
        "id": "8psrCev-nmPR",
        "outputId": "d3270535-3ad2-4821-b6c5-6adaf6eb5bb2"
      },
      "outputs": [
        {
          "name": "stderr",
          "text": "Some weights of the PyTorch model were not used when initializing the TF 2.0 model TFBertModel: ['cls.predictions.transform.dense.bias', 'cls.predictions.transform.LayerNorm.bias', 'cls.predictions.transform.LayerNorm.weight', 'cls.seq_relationship.weight', 'cls.seq_relationship.bias', 'cls.predictions.transform.dense.weight', 'cls.predictions.bias']\n- This IS expected if you are initializing TFBertModel from a PyTorch model trained on another task or with another architecture (e.g. initializing a TFBertForSequenceClassification model from a BertForPreTraining model).\n- This IS NOT expected if you are initializing TFBertModel from a PyTorch model that you expect to be exactly identical (e.g. initializing a TFBertForSequenceClassification model from a BertForSequenceClassification model).\nAll the weights of TFBertModel were initialized from the PyTorch model.\nIf your task is similar to the task the model of the checkpoint was trained on, you can already use TFBertModel for predictions without further training.\n",
          "output_type": "stream"
        },
        {
          "name": "stdout",
          "text": "Model: \"model_2\"\n__________________________________________________________________________________________________\n Layer (type)                Output Shape                 Param #   Connected to                  \n==================================================================================================\n input_5 (InputLayer)        [(None, 128)]                0         []                            \n                                                                                                  \n input_6 (InputLayer)        [(None, 128)]                0         []                            \n                                                                                                  \n tf_bert_model_2 (TFBertMod  TFBaseModelOutputWithPooli   1094822   ['input_5[0][0]',             \n el)                         ngAndCrossAttentions(last_   40         'input_6[0][0]']             \n                             hidden_state=(None, 128, 7                                           \n                             68),                                                                 \n                              pooler_output=(None, 768)                                           \n                             , past_key_values=None, hi                                           \n                             dden_states=None, attentio                                           \n                             ns=None, cross_attentions=                                           \n                             None)                                                                \n                                                                                                  \n dense_2 (Dense)             (None, 3)                    2307      ['tf_bert_model_2[0][1]']     \n                                                                                                  \n==================================================================================================\nTotal params: 109484547 (417.65 MB)\nTrainable params: 109484547 (417.65 MB)\nNon-trainable params: 0 (0.00 Byte)\n__________________________________________________________________________________________________\n",
          "output_type": "stream"
        }
      ],
      "execution_count": null
    },
    {
      "cell_type": "code",
      "source": [
        "# Train the model (use 20% of the training data for validation)\n",
        "history_bert = model.fit(\n",
        "    [train_input_ids, train_attention_masks],\n",
        "    y_train,\n",
        "    validation_split=0.2,  # Use 20% of training data for validation\n",
        "    epochs=4,\n",
        "    batch_size=32\n",
        ")\n"
      ],
      "metadata": {
        "trusted": true,
        "execution": {
          "iopub.status.busy": "2025-01-01T19:23:02.648905Z",
          "iopub.execute_input": "2025-01-01T19:23:02.649216Z",
          "iopub.status.idle": "2025-01-01T20:38:13.433116Z",
          "shell.execute_reply.started": "2025-01-01T19:23:02.649195Z",
          "shell.execute_reply": "2025-01-01T20:38:13.432447Z"
        },
        "id": "KiN8Yl4PnmPS",
        "outputId": "2031b1be-6d1e-4ca5-91ec-2134017f89b4"
      },
      "outputs": [
        {
          "name": "stdout",
          "text": "Epoch 1/4\n1354/1354 [==============================] - 1131s 835ms/step - loss: 0.4643 - sparse_categorical_accuracy: 0.8239 - val_loss: 0.4690 - val_sparse_categorical_accuracy: 0.8457\nEpoch 2/4\n1354/1354 [==============================] - 1127s 832ms/step - loss: 0.2524 - sparse_categorical_accuracy: 0.9132 - val_loss: 0.2888 - val_sparse_categorical_accuracy: 0.8870\nEpoch 3/4\n1354/1354 [==============================] - 1126s 832ms/step - loss: 0.1723 - sparse_categorical_accuracy: 0.9438 - val_loss: 0.2157 - val_sparse_categorical_accuracy: 0.8979\nEpoch 4/4\n1354/1354 [==============================] - 1127s 832ms/step - loss: 0.1279 - sparse_categorical_accuracy: 0.9573 - val_loss: 0.2090 - val_sparse_categorical_accuracy: 0.9043\n",
          "output_type": "stream"
        }
      ],
      "execution_count": null
    },
    {
      "cell_type": "code",
      "source": [
        "# Evaluate the model on the reserved validation data\n",
        "test_loss, test_accuracy = model.evaluate([val_input_ids, val_attention_masks], y_test)\n",
        "print(f\"Test Loss: {test_loss}\")\n",
        "print(f\"Test Accuracy: {test_accuracy}\")"
      ],
      "metadata": {
        "trusted": true,
        "execution": {
          "iopub.status.busy": "2025-01-01T20:40:20.837052Z",
          "iopub.execute_input": "2025-01-01T20:40:20.837341Z",
          "iopub.status.idle": "2025-01-01T20:40:52.449812Z",
          "shell.execute_reply.started": "2025-01-01T20:40:20.837319Z",
          "shell.execute_reply": "2025-01-01T20:40:52.449094Z"
        },
        "id": "qTiFHTZhnmPS",
        "outputId": "21ce4cbd-799b-4f7c-ccb8-a7a5b6a886ce"
      },
      "outputs": [
        {
          "name": "stdout",
          "text": "119/119 [==============================] - 32s 265ms/step - loss: 0.2597 - sparse_categorical_accuracy: 0.9157\nTest Loss: 0.25969305634498596\nTest Accuracy: 0.9157451391220093\n",
          "output_type": "stream"
        }
      ],
      "execution_count": null
    },
    {
      "cell_type": "code",
      "source": [
        "from sklearn.metrics import confusion_matrix, classification_report\n",
        "import seaborn as sns\n",
        "import matplotlib.pyplot as plt\n",
        "import numpy as np\n",
        "\n",
        "# If y_test contains the class indices\n",
        "class_names = [str(label) for label in np.unique(y_test)]\n",
        "\n",
        "# Step 1: Predict the classes on the test set\n",
        "y_pred_probs = model.predict([val_input_ids, val_attention_masks])  # Probabilities\n",
        "y_pred = np.argmax(y_pred_probs, axis=1)  # Convert to class labels (assuming multi-class classification)\n",
        "\n",
        "# Step 2: Generate the confusion matrix\n",
        "conf_matrix = confusion_matrix(y_test, y_pred)\n",
        "\n",
        "# Step 3: Visualize the confusion matrix\n",
        "plt.figure(figsize=(10, 8))\n",
        "sns.heatmap(conf_matrix, annot=True, fmt=\"d\", cmap=\"Blues\", xticklabels=class_names, yticklabels=class_names)\n",
        "plt.xlabel(\"Predicted Label\")\n",
        "plt.ylabel(\"True Label\")\n",
        "plt.title(\"Confusion Matrix\")\n",
        "plt.show()\n",
        "\n",
        "# Step 4: Print the classification report (optional)\n",
        "print(\"Classification Report:\")\n",
        "print(classification_report(y_test, y_pred, target_names=class_names))\n"
      ],
      "metadata": {
        "trusted": true,
        "execution": {
          "iopub.status.busy": "2025-01-01T20:43:18.681407Z",
          "iopub.execute_input": "2025-01-01T20:43:18.681696Z",
          "iopub.status.idle": "2025-01-01T20:43:51.057660Z",
          "shell.execute_reply.started": "2025-01-01T20:43:18.681675Z",
          "shell.execute_reply": "2025-01-01T20:43:51.056972Z"
        },
        "id": "TCpQbLRQnmPS",
        "outputId": "e6052b4a-14bf-4a7a-cd78-756b28005394"
      },
      "outputs": [
        {
          "name": "stdout",
          "text": "119/119 [==============================] - 32s 268ms/step\n",
          "output_type": "stream"
        },
        {
          "output_type": "display_data",
          "data": {
            "text/plain": "<Figure size 1000x800 with 2 Axes>",
            "image/png": "[encoded data removed]"
          },
          "metadata": {}
        },
        {
          "name": "stdout",
          "text": "Classification Report:\n              precision    recall  f1-score   support\n\n           0       0.89      0.95      0.92      1633\n           1       0.94      0.84      0.89       619\n           2       0.94      0.91      0.92      1546\n\n    accuracy                           0.92      3798\n   macro avg       0.92      0.90      0.91      3798\nweighted avg       0.92      0.92      0.92      3798\n\n",
          "output_type": "stream"
        }
      ],
      "execution_count": null
    }
  ]
}